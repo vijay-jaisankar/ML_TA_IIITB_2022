{
 "cells": [
  {
   "cell_type": "code",
   "execution_count": 2,
   "metadata": {},
   "outputs": [],
   "source": [
    "import numpy as np \n",
    "import pandas as pd\n",
    "import matplotlib.pyplot as plt\n",
    "from sklearn import metrics\n",
    "import os\n",
    "import torch\n",
    "from torch import nn\n",
    "from torch.utils.data import DataLoader\n",
    "from torchvision import datasets, transforms"
   ]
  },
  {
   "cell_type": "markdown",
   "metadata": {},
   "source": [
    "# SPLITTING OF DATA "
   ]
  },
  {
   "cell_type": "markdown",
   "metadata": {},
   "source": []
  },
  {
   "cell_type": "code",
   "execution_count": 2,
   "metadata": {},
   "outputs": [],
   "source": [
    "def randomizeData(X, y):\n",
    "  np.random.seed(9)\n",
    "  separate = np.random.rand(X.shape[0]) < np.percentile(np.random.rand(X.shape[0]), 70)\n",
    "  Ytrain = y[separate]\n",
    "  Xtrain = X[separate]\n",
    "  Xtest =  X[~separate]\n",
    "  Ytest = y[~separate]  \n",
    "  return Xtrain, Ytrain, Xtest, Ytest"
   ]
  },
  {
   "cell_type": "markdown",
   "metadata": {},
   "source": [
    "# Preprocessing & Data Wrangling"
   ]
  },
  {
   "cell_type": "code",
   "execution_count": 3,
   "metadata": {},
   "outputs": [],
   "source": [
    "dataFrame = pd.read_csv(\"breast-cancer-wisconsin.data\", header = None)\n",
    "dataFrame.loc[:, 6].replace(['?'], 1, inplace = True)\n",
    "dataFrame.loc[:, 6] = pd.to_numeric(dataFrame.loc[:, 6])\n",
    "dataFrame.drop(axis = \"rows\", labels = dataFrame.index[dataFrame.duplicated()], inplace=True)\n",
    "y = dataFrame.loc[:, 10]\n",
    "y = y.replace(4, 0)  # replacing 4 with 0 \n",
    "y = y.replace(2, 1)  # replacing 2 with 1\n",
    "pBenign = 0.655\n",
    "pMalignant = 0.345\n",
    "dataFrame.drop(dataFrame.columns[[0]], inplace = True, axis = 1)\n",
    "dataFrame.apply(pd.to_numeric, errors='ignore') # Entire data is changed into numeric to avoid errors due to strings, other data types\n",
    "X = dataFrame.loc[:,:]\n",
    "Xtrain, Ytrain, Xtest, Ytest = randomizeData(X, y)\n",
    "BenignData = Xtrain.loc[Xtrain.iloc[:,9] == 2]  # BenignData: Rows in which class label is 2.\n",
    "MalignantData = Xtrain.loc[Xtrain.iloc[:, 9] == 4]  # MalignantData: Rows in which class label is 4."
   ]
  }
 ],
 "metadata": {
  "kernelspec": {
   "display_name": "Python 3.8.5 64-bit",
   "language": "python",
   "name": "python3"
  },
  "language_info": {
   "codemirror_mode": {
    "name": "ipython",
    "version": 3
   },
   "file_extension": ".py",
   "mimetype": "text/x-python",
   "name": "python",
   "nbconvert_exporter": "python",
   "pygments_lexer": "ipython3",
   "version": "3.8.5"
  },
  "orig_nbformat": 4,
  "vscode": {
   "interpreter": {
    "hash": "9650cb4e16cdd4a8e8e2d128bf38d875813998db22a3c986335f89e0cb4d7bb2"
   }
  }
 },
 "nbformat": 4,
 "nbformat_minor": 2
}

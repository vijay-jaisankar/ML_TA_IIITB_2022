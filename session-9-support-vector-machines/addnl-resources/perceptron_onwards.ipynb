{
 "cells": [
  {
   "cell_type": "code",
   "execution_count": 1,
   "metadata": {},
   "outputs": [],
   "source": [
    "%matplotlib inline\n",
    "import numpy as np\n",
    "import matplotlib.pyplot as plt  "
   ]
  },
  {
   "cell_type": "code",
   "execution_count": 2,
   "metadata": {},
   "outputs": [
    {
     "data": {
      "image/png": "[encoded data removed]",
      "text/plain": [
       "<Figure size 432x288 with 1 Axes>"
      ]
     },
     "metadata": {
      "needs_background": "light"
     },
     "output_type": "display_data"
    }
   ],
   "source": [
    "P_X = 0.5\n",
    "P_Y =0.5\n",
    "\n",
    "points_1 = np.random.multivariate_normal(mean=(-P_X+1,-P_Y), cov=[[0.01,0],[0,0.01]],size=(50,))\n",
    "points_m1 = np.random.multivariate_normal(mean=(P_X+1,P_Y), cov=[[0.01,0],[0,0.01]],size=(50,)) \n",
    "\n",
    "plt.close()\n",
    "plt.scatter(points_1[:,0],points_1[:,1], s=2,color='red');\n",
    "plt.scatter(points_m1[:,0],points_m1[:,1], s=2,color='blue');\n"
   ]
  },
  {
   "cell_type": "code",
   "execution_count": 3,
   "metadata": {},
   "outputs": [],
   "source": [
    "Y = np.concatenate((1*np.ones(points_1.shape[0]),-1*np.ones(points_m1.shape[0])))"
   ]
  },
  {
   "cell_type": "code",
   "execution_count": 4,
   "metadata": {},
   "outputs": [
    {
     "data": {
      "text/plain": [
       "(50, 2)"
      ]
     },
     "execution_count": 4,
     "metadata": {},
     "output_type": "execute_result"
    }
   ],
   "source": [
    "points_m1.shape "
   ]
  },
  {
   "cell_type": "code",
   "execution_count": 5,
   "metadata": {},
   "outputs": [],
   "source": [
    "X = np.concatenate((points_1,points_m1),axis=0)\n",
    "X = np.concatenate((X, np.ones(X.shape[0]).reshape(-1,1)),axis=-1)"
   ]
  },
  {
   "cell_type": "code",
   "execution_count": 6,
   "metadata": {},
   "outputs": [],
   "source": [
    "from tqdm import tqdm "
   ]
  },
  {
   "cell_type": "code",
   "execution_count": 21,
   "metadata": {},
   "outputs": [
    {
     "name": "stderr",
     "output_type": "stream",
     "text": [
      "100%|██████████| 100/100 [00:00<00:00, 99816.85it/s]\n",
      "100%|██████████| 100/100 [00:00<00:00, 96598.43it/s]\n"
     ]
    },
    {
     "data": {
      "image/png": "[encoded data removed]",
      "text/plain": [
       "<Figure size 432x288 with 1 Axes>"
      ]
     },
     "metadata": {
      "needs_background": "light"
     },
     "output_type": "display_data"
    }
   ],
   "source": [
    "w = np.random.randint(-10,10,3)\n",
    "converged = False \n",
    "while not (converged): \n",
    "    converged = True\n",
    "    for i in tqdm(range(len(Y))): \n",
    "        x_i = X[i,:].reshape(-1)\n",
    "        y_i = Y[i]\n",
    "        if(np.sign(w@x_i) != y_i): \n",
    "            w = w + x_i*y_i\n",
    "            converged = False\n",
    "decision_x = np.linspace(0.25,1.5,5)\n",
    "decision_y = -(w[0]*decision_x + w[-1])/w[1]\n",
    "fig, ax = plt.subplots()\n",
    "ax.scatter(points_1[:,0],points_1[:,1], s=2,color='red')\n",
    "ax.scatter(points_m1[:,0],points_m1[:,1], s=2,color='blue')\n",
    "ax.plot(decision_x,decision_y,color='black',linewidth=2)\n",
    "ax.axis('equal')\n",
    "ax.set_aspect('equal', 'box')\n",
    "plt.savefig(\"PERCEPTRON_OUT\" + str(np.random.randint(0,100)) + \".png\")"
   ]
  }
 ],
 "metadata": {
  "kernelspec": {
   "display_name": "Python 3.8.6 64-bit",
   "language": "python",
   "name": "python3"
  },
  "language_info": {
   "codemirror_mode": {
    "name": "ipython",
    "version": 3
   },
   "file_extension": ".py",
   "mimetype": "text/x-python",
   "name": "python",
   "nbconvert_exporter": "python",
   "pygments_lexer": "ipython3",
   "version": "3.8.6"
  },
  "orig_nbformat": 4,
  "vscode": {
   "interpreter": {
    "hash": "b83be263001e2b0b154dacdf8c55ba3bb5b76fcadd193015881011c6edf0b62a"
   }
  }
 },
 "nbformat": 4,
 "nbformat_minor": 2
}

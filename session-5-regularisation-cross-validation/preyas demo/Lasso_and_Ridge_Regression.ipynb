{
  "cells": [
    {
      "cell_type": "code",
      "source": [
        "from google.colab import drive\n",
        "drive.mount('/content/drive')"
      ],
      "metadata": {
        "colab": {
          "base_uri": "https://localhost:8080/"
        },
        "id": "akDn969qnVok",
        "outputId": "148ccd31-64a2-49cd-c5d6-444482c35403"
      },
      "execution_count": 1,
      "outputs": [
        {
          "output_type": "stream",
          "name": "stdout",
          "text": [
            "Mounted at /content/drive\n"
          ]
        }
      ]
    },
    {
      "cell_type": "markdown",
      "metadata": {
        "id": "EhEIUQ70m81Q"
      },
      "source": [
        "# Ridge and Lasso Regression"
      ]
    },
    {
      "cell_type": "markdown",
      "metadata": {
        "id": "GKJdOQmOm81T"
      },
      "source": [
        "## Introduction"
      ]
    },
    {
      "cell_type": "markdown",
      "metadata": {
        "id": "WstW1BYkm81T"
      },
      "source": [
        "At this point, you've seen a number of criteria and algorithms for fitting regression models to data. You've seen the simple linear regression using ordinary least squares, and its more general regression of polynomial functions. You've also seen how we can overfit models to data using polynomials and interactions. With all of that, you began to explore other tools to analyze this general problem of overfitting versus underfitting, all this using training and test splits, bias and variance, and cross validation.\n",
        "\n",
        "Now you're going to take a look at another way to tune the models you create. These methods all modify the mean squared error function that you are optimizing against. The modifications will add a penalty for large coefficient weights in the resulting model."
      ]
    },
    {
      "cell_type": "markdown",
      "metadata": {
        "id": "3B2tsP51m81U"
      },
      "source": [
        "## Objectives"
      ]
    },
    {
      "cell_type": "markdown",
      "metadata": {
        "id": "aBcCyMzgm81U"
      },
      "source": [
        "You will be able to:"
      ]
    },
    {
      "cell_type": "markdown",
      "metadata": {
        "id": "yWu2Q2-5m81V"
      },
      "source": [
        "- Define lasso regression \n",
        "- Define ridge regression \n",
        "- Describe why standardization is necessary before ridge and lasso regression \n",
        "- Compare and contrast lasso, ridge, and non-regularized regression \n",
        "- Use lasso and ridge regression with scikit-learn "
      ]
    },
    {
      "cell_type": "markdown",
      "metadata": {
        "id": "hEBO5rKUm81V"
      },
      "source": [
        "## Linear Regression Cost Function"
      ]
    },
    {
      "cell_type": "markdown",
      "metadata": {
        "id": "8WqDz_tYm81W"
      },
      "source": [
        "From an earlier lesson, you know that when solving for a linear regression, you can express the cost function as\n",
        "\n",
        "$$ \\text{cost_function}= \\sum_{i=1}^n(y_i - \\hat{y})^2 = \\sum_{i=1}^n(y_i - (mx_i + b))^2$$\n",
        "\n",
        "This is the expression for simple linear regression (for 1 predictor $x$). If you have multiple predictors, you would have something that looks like:\n",
        "\n",
        "$$ \\text{cost_function}= \\sum_{i=1}^n(y_i - \\hat{y})^2 = \\sum_{i=1}^n(y_i - \\sum_{j=1}^k(m_jx_{ij} ) -b )^2$$\n",
        "\n",
        "where $k$ is the number of predictors."
      ]
    },
    {
      "cell_type": "markdown",
      "metadata": {
        "id": "gB4-zAM4m81W"
      },
      "source": [
        "## Penalized Estimation"
      ]
    },
    {
      "cell_type": "markdown",
      "metadata": {
        "id": "rgGyaML8m81X"
      },
      "source": [
        "You've seen that **when the number of predictors increases, your model complexity increases, with a higher chance of overfitting as a result**. We've previously seen fairly ad-hoc variable selection methods (such as forward/backward selection), to simply select a few variables from a longer list of variables as predictors. \n",
        "\n",
        "Now, instead of completely \"deleting\" certain predictors from a model (which is equal to setting coefficients equal to zero), wouldn't it be interesting to just reduce the values of the coefficients to make them less sensitive to noise in the data? ***Penalized estimation*** operates in a way where parameter shrinkage effects are used to make some or all of the coefficients smaller in magnitude (closer to zero). Some of the penalties have the property of performing both variable selection (setting some coefficients exactly equal to zero) and shrinking the other coefficients.\n",
        "\n",
        "- They reduce model complexity\n",
        "- They may prevent overfitting\n",
        "- Some of them may perform variable selection at the same time (when coefficients are set to 0)\n",
        "- They can be used to counter multicollinearity\n",
        "\n",
        "Penalized estimation is a commonly used ***regularization*** technique. **Regularization is a general term used when one tries to battle overfitting.**\n",
        "\n",
        "Two commonly-used models that use penalized estimation are ***ridge regression*** and ***lasso regression***. While linear regression has been in use since the 1800s, ridge regression was proposed in 1970 ([journal article here](https://web.archive.org/web/20180413003503id_/http://math.arizona.edu:80/~hzhang/math574m/Read/Ridge.pdf)) and lasso regression in 1996 ([journal article here](https://biostat.app.vumc.org/wiki/pub/Main/MSJournalClub/lasso.pdf))."
      ]
    },
    {
      "cell_type": "markdown",
      "metadata": {
        "id": "l18kHQ-Km81Y"
      },
      "source": [
        "## Ridge Regression"
      ]
    },
    {
      "cell_type": "markdown",
      "metadata": {
        "id": "9Gpn8bn5m81Y"
      },
      "source": [
        "In ridge regression, the cost function is changed by adding a penalty term to the square of the magnitude of the coefficients."
      ]
    },
    {
      "cell_type": "markdown",
      "metadata": {
        "id": "jQT3MfNKm81Y"
      },
      "source": [
        "$$ \\text{cost_function_ridge}= \\sum_{i=1}^n(y_i - \\hat{y})^2 = \\sum_{i=1}^n(y_i - \\sum_{j=1}^k(m_jx_{ij})-b)^2 + \\lambda \\sum_{j=1}^p m_j^2$$"
      ]
    },
    {
      "cell_type": "markdown",
      "metadata": {
        "id": "_drlqgzbm81Z"
      },
      "source": [
        "If you have two predictors the full equation would look like this (notice that there is a penalty term $\\lambda m^2$ for each predictor in the model - in this case, two) : "
      ]
    },
    {
      "cell_type": "markdown",
      "metadata": {
        "id": "rwaLummAm81Z"
      },
      "source": [
        "$$ \\text{cost_function_ridge}= \\sum_{i=1}^n(y_i - \\hat{y})^2 = $$\n",
        "\n",
        "$$ \\sum_{i=1}^n(y_i - ((m_1x_{1i})-b)^2 + \\lambda m_1^2 + (m_2x_{2i})-b)^2 + \\lambda m_2^2)$$"
      ]
    },
    {
      "cell_type": "markdown",
      "metadata": {
        "id": "k746BUg_m81Z"
      },
      "source": [
        "Remember that you want to minimize your cost function, so by adding the penalty term $\\lambda$, ridge regression puts a constraint on the coefficients $m$. This means that large coefficients penalize the optimization function. That's why **ridge regression leads to a shrinkage of the coefficients** and helps to reduce model complexity and multicollinearity."
      ]
    },
    {
      "cell_type": "markdown",
      "metadata": {
        "id": "xnCw_gN3m81Z"
      },
      "source": [
        "$\\lambda$ is a ***hyperparameter***, which means you have to specify the value for lambda when creating the model. (This differs from a regular model parameter, which is determined by the fitting algorithm.) For a small lambda, the outcome of your ridge regression will resemble a linear regression model. For large lambda, penalization will increase and more parameters will shrink.\n",
        "\n",
        "Ridge regression is often also referred to as **L2 norm regularization**. This is the same L2 norm from linear algebra used in the concepts of variance, MSE, and Euclidean distance."
      ]
    },
    {
      "cell_type": "markdown",
      "metadata": {
        "id": "QxyUESosm81a"
      },
      "source": [
        "## Lasso regression"
      ]
    },
    {
      "cell_type": "markdown",
      "metadata": {
        "id": "_eucmup7m81a"
      },
      "source": [
        "Lasso regression is very similar to ridge regression, except that the magnitude of the coefficients are not squared in the penalty term. So, while ridge regression keeps the sum of the squared regression coefficients (except for the intercept) bounded, the lasso method bounds the sum of the absolute values.\n",
        "\n",
        "The resulting cost function looks like this:"
      ]
    },
    {
      "cell_type": "markdown",
      "metadata": {
        "id": "hpxPM3T6m81a"
      },
      "source": [
        "$$ \\text{cost_function_lasso}= \\sum_{i=1}^n(y_i - \\hat{y})^2 = \\sum_{i=1}^n(y_i - \\sum_{j=1}^k(m_jx_{ij})-b)^2 + \\lambda \\sum_{j=1}^p \\vert m_j \\vert$$"
      ]
    },
    {
      "cell_type": "markdown",
      "metadata": {
        "id": "6Ic5XWJQm81a"
      },
      "source": [
        "If you have two predictors the full equation would look like this (notice that there is a penalty term $\\lambda \\vert m \\vert$ for each predictor in the model - in this case, two): "
      ]
    },
    {
      "cell_type": "markdown",
      "metadata": {
        "id": "LIdrRa_Sm81a"
      },
      "source": [
        "$$ \\text{cost_function_lasso}= \\sum_{i=1}^n(y_i - \\hat{y})^2 = $$\n",
        "\n",
        "$$\\sum_{i=1}^n(y_i - ((m_1x_{1i})-b)^2 + \\lambda \\vert m_1 \\vert) + ((m_2x_{2i})-b)^2 + \\lambda \\vert m_2 \\vert) $$"
      ]
    },
    {
      "cell_type": "markdown",
      "metadata": {
        "id": "tkz0yb25m81b"
      },
      "source": [
        "The name \"lasso\" comes from \"Least Absolute Shrinkage and Selection Operator\".\n",
        "\n",
        "While it may look similar to the definition of the ridge estimator, the effect of the absolute values is that some coefficients might be set exactly equal to zero, while other coefficients are shrunk towards zero. Hence the lasso method is attractive because it performs estimation *and* selection simultaneously. This is especially valuable for variable selection when the number of predictors is very high."
      ]
    },
    {
      "cell_type": "markdown",
      "metadata": {
        "id": "HAQZjX2hm81b"
      },
      "source": [
        "Lasso regression is often also referred to as **L1 norm regularization**. This is the same L1 norm from linear algebra used in the concepts of absolute deviation, MAE, and Manhattan distance."
      ]
    },
    {
      "cell_type": "markdown",
      "metadata": {
        "id": "J76D-hBsm81b"
      },
      "source": [
        "### Standardization Before Regularization\n",
        "\n",
        "An important step before using either lasso or ridge regularization is to **first standardize your data such that it is all on the same scale**.\n",
        "\n",
        "Regularization is based on the concept of penalizing larger coefficients, so if you have features that are on different scales, some will get unfairly penalized.\n",
        "\n",
        "Below, you can see that we are using a `MinMaxScaler` to standardize our data to the same scale."
      ]
    },
    {
      "cell_type": "markdown",
      "metadata": {
        "id": "AJmGFEOWm81b"
      },
      "source": [
        "## Examples Using Our `auto-mpg` Data"
      ]
    },
    {
      "cell_type": "markdown",
      "metadata": {
        "id": "U0XNL5jRm81b"
      },
      "source": [
        "### Regularized Linear Regression vs. Linear Regression\n",
        "\n",
        "Let's transform our continuous predictors in `auto-mpg` and see how they perform as predictors in a ridge versus lasso regression. \n",
        "\n",
        "We import the dataset, separate the target and predictors, and then split the data into training and test sets: "
      ]
    },
    {
      "cell_type": "markdown",
      "source": [
        "### dataset information:\n",
        "\n",
        "This dataset is a slightly modified version of the dataset provided in the StatLib library. In line with the use by Ross Quinlan (1993) in predicting the attribute \"mpg\", 8 of the original instances were removed because they had unknown values for the \"mpg\" attribute. The original dataset is available in the file \"auto-mpg.data-original\".\n",
        "\n",
        "\"The data concerns city-cycle fuel consumption in miles per gallon, to be predicted in terms of 3 multivalued discrete and 5 continuous attributes.\" (Quinlan, 1993)\n",
        "\n",
        "\n",
        "Attribute Information:\n",
        "\n",
        "1. mpg: continuous\n",
        "2. cylinders: multi-valued discrete\n",
        "3. displacement: continuous\n",
        "4. horsepower: continuous\n",
        "5. weight: continuous\n",
        "6. acceleration: continuous\n",
        "7. model year: multi-valued discrete\n",
        "8. origin: multi-valued discrete\n",
        "9. car name: string (unique for each instance)"
      ],
      "metadata": {
        "id": "F5p_c6DdqOyW"
      }
    },
    {
      "cell_type": "code",
      "execution_count": 13,
      "metadata": {
        "colab": {
          "base_uri": "https://localhost:8080/",
          "height": 206
        },
        "id": "mFnuJ7bVm81c",
        "outputId": "2dd72743-3385-43a8-b852-0d4fa199c37a"
      },
      "outputs": [
        {
          "output_type": "execute_result",
          "data": {
            "text/plain": [
              "    mpg  cylinders  displacement  horsepower  weight  acceleration  \\\n",
              "0  18.0          8         307.0         130    3504          12.0   \n",
              "1  15.0          8         350.0         165    3693          11.5   \n",
              "2  18.0          8         318.0         150    3436          11.0   \n",
              "3  16.0          8         304.0         150    3433          12.0   \n",
              "4  17.0          8         302.0         140    3449          10.5   \n",
              "\n",
              "   model year  origin                   car name  \n",
              "0          70       1  chevrolet chevelle malibu  \n",
              "1          70       1          buick skylark 320  \n",
              "2          70       1         plymouth satellite  \n",
              "3          70       1              amc rebel sst  \n",
              "4          70       1                ford torino  "
            ],
            "text/html": [
              "\n",
              "  <div id=\"df-81ee6e48-b094-4f0c-96ce-c7d9d962873d\">\n",
              "    <div class=\"colab-df-container\">\n",
              "      <div>\n",
              "<style scoped>\n",
              "    .dataframe tbody tr th:only-of-type {\n",
              "        vertical-align: middle;\n",
              "    }\n",
              "\n",
              "    .dataframe tbody tr th {\n",
              "        vertical-align: top;\n",
              "    }\n",
              "\n",
              "    .dataframe thead th {\n",
              "        text-align: right;\n",
              "    }\n",
              "</style>\n",
              "<table border=\"1\" class=\"dataframe\">\n",
              "  <thead>\n",
              "    <tr style=\"text-align: right;\">\n",
              "      <th></th>\n",
              "      <th>mpg</th>\n",
              "      <th>cylinders</th>\n",
              "      <th>displacement</th>\n",
              "      <th>horsepower</th>\n",
              "      <th>weight</th>\n",
              "      <th>acceleration</th>\n",
              "      <th>model year</th>\n",
              "      <th>origin</th>\n",
              "      <th>car name</th>\n",
              "    </tr>\n",
              "  </thead>\n",
              "  <tbody>\n",
              "    <tr>\n",
              "      <th>0</th>\n",
              "      <td>18.0</td>\n",
              "      <td>8</td>\n",
              "      <td>307.0</td>\n",
              "      <td>130</td>\n",
              "      <td>3504</td>\n",
              "      <td>12.0</td>\n",
              "      <td>70</td>\n",
              "      <td>1</td>\n",
              "      <td>chevrolet chevelle malibu</td>\n",
              "    </tr>\n",
              "    <tr>\n",
              "      <th>1</th>\n",
              "      <td>15.0</td>\n",
              "      <td>8</td>\n",
              "      <td>350.0</td>\n",
              "      <td>165</td>\n",
              "      <td>3693</td>\n",
              "      <td>11.5</td>\n",
              "      <td>70</td>\n",
              "      <td>1</td>\n",
              "      <td>buick skylark 320</td>\n",
              "    </tr>\n",
              "    <tr>\n",
              "      <th>2</th>\n",
              "      <td>18.0</td>\n",
              "      <td>8</td>\n",
              "      <td>318.0</td>\n",
              "      <td>150</td>\n",
              "      <td>3436</td>\n",
              "      <td>11.0</td>\n",
              "      <td>70</td>\n",
              "      <td>1</td>\n",
              "      <td>plymouth satellite</td>\n",
              "    </tr>\n",
              "    <tr>\n",
              "      <th>3</th>\n",
              "      <td>16.0</td>\n",
              "      <td>8</td>\n",
              "      <td>304.0</td>\n",
              "      <td>150</td>\n",
              "      <td>3433</td>\n",
              "      <td>12.0</td>\n",
              "      <td>70</td>\n",
              "      <td>1</td>\n",
              "      <td>amc rebel sst</td>\n",
              "    </tr>\n",
              "    <tr>\n",
              "      <th>4</th>\n",
              "      <td>17.0</td>\n",
              "      <td>8</td>\n",
              "      <td>302.0</td>\n",
              "      <td>140</td>\n",
              "      <td>3449</td>\n",
              "      <td>10.5</td>\n",
              "      <td>70</td>\n",
              "      <td>1</td>\n",
              "      <td>ford torino</td>\n",
              "    </tr>\n",
              "  </tbody>\n",
              "</table>\n",
              "</div>\n",
              "      <button class=\"colab-df-convert\" onclick=\"convertToInteractive('df-81ee6e48-b094-4f0c-96ce-c7d9d962873d')\"\n",
              "              title=\"Convert this dataframe to an interactive table.\"\n",
              "              style=\"display:none;\">\n",
              "        \n",
              "  <svg xmlns=\"http://www.w3.org/2000/svg\" height=\"24px\"viewBox=\"0 0 24 24\"\n",
              "       width=\"24px\">\n",
              "    <path d=\"M0 0h24v24H0V0z\" fill=\"none\"/>\n",
              "    <path d=\"M18.56 5.44l.94 2.06.94-2.06 2.06-.94-2.06-.94-.94-2.06-.94 2.06-2.06.94zm-11 1L8.5 8.5l.94-2.06 2.06-.94-2.06-.94L8.5 2.5l-.94 2.06-2.06.94zm10 10l.94 2.06.94-2.06 2.06-.94-2.06-.94-.94-2.06-.94 2.06-2.06.94z\"/><path d=\"M17.41 7.96l-1.37-1.37c-.4-.4-.92-.59-1.43-.59-.52 0-1.04.2-1.43.59L10.3 9.45l-7.72 7.72c-.78.78-.78 2.05 0 2.83L4 21.41c.39.39.9.59 1.41.59.51 0 1.02-.2 1.41-.59l7.78-7.78 2.81-2.81c.8-.78.8-2.07 0-2.86zM5.41 20L4 18.59l7.72-7.72 1.47 1.35L5.41 20z\"/>\n",
              "  </svg>\n",
              "      </button>\n",
              "      \n",
              "  <style>\n",
              "    .colab-df-container {\n",
              "      display:flex;\n",
              "      flex-wrap:wrap;\n",
              "      gap: 12px;\n",
              "    }\n",
              "\n",
              "    .colab-df-convert {\n",
              "      background-color: #E8F0FE;\n",
              "      border: none;\n",
              "      border-radius: 50%;\n",
              "      cursor: pointer;\n",
              "      display: none;\n",
              "      fill: #1967D2;\n",
              "      height: 32px;\n",
              "      padding: 0 0 0 0;\n",
              "      width: 32px;\n",
              "    }\n",
              "\n",
              "    .colab-df-convert:hover {\n",
              "      background-color: #E2EBFA;\n",
              "      box-shadow: 0px 1px 2px rgba(60, 64, 67, 0.3), 0px 1px 3px 1px rgba(60, 64, 67, 0.15);\n",
              "      fill: #174EA6;\n",
              "    }\n",
              "\n",
              "    [theme=dark] .colab-df-convert {\n",
              "      background-color: #3B4455;\n",
              "      fill: #D2E3FC;\n",
              "    }\n",
              "\n",
              "    [theme=dark] .colab-df-convert:hover {\n",
              "      background-color: #434B5C;\n",
              "      box-shadow: 0px 1px 3px 1px rgba(0, 0, 0, 0.15);\n",
              "      filter: drop-shadow(0px 1px 2px rgba(0, 0, 0, 0.3));\n",
              "      fill: #FFFFFF;\n",
              "    }\n",
              "  </style>\n",
              "\n",
              "      <script>\n",
              "        const buttonEl =\n",
              "          document.querySelector('#df-81ee6e48-b094-4f0c-96ce-c7d9d962873d button.colab-df-convert');\n",
              "        buttonEl.style.display =\n",
              "          google.colab.kernel.accessAllowed ? 'block' : 'none';\n",
              "\n",
              "        async function convertToInteractive(key) {\n",
              "          const element = document.querySelector('#df-81ee6e48-b094-4f0c-96ce-c7d9d962873d');\n",
              "          const dataTable =\n",
              "            await google.colab.kernel.invokeFunction('convertToInteractive',\n",
              "                                                     [key], {});\n",
              "          if (!dataTable) return;\n",
              "\n",
              "          const docLinkHtml = 'Like what you see? Visit the ' +\n",
              "            '<a target=\"_blank\" href=https://colab.research.google.com/notebooks/data_table.ipynb>data table notebook</a>'\n",
              "            + ' to learn more about interactive tables.';\n",
              "          element.innerHTML = '';\n",
              "          dataTable['output_type'] = 'display_data';\n",
              "          await google.colab.output.renderOutput(dataTable, element);\n",
              "          const docLink = document.createElement('div');\n",
              "          docLink.innerHTML = docLinkHtml;\n",
              "          element.appendChild(docLink);\n",
              "        }\n",
              "      </script>\n",
              "    </div>\n",
              "  </div>\n",
              "  "
            ]
          },
          "metadata": {},
          "execution_count": 13
        }
      ],
      "source": [
        "import pandas as pd\n",
        "from sklearn.linear_model import Lasso, Ridge, LinearRegression\n",
        "from sklearn.metrics import mean_squared_error\n",
        "from sklearn.model_selection import train_test_split\n",
        "from sklearn.preprocessing import MinMaxScaler, PolynomialFeatures\n",
        "\n",
        "data = pd.read_csv('/content/drive/MyDrive/week 5 ml taship/auto-mpg.csv') \n",
        "\n",
        "data.head()"
      ]
    },
    {
      "cell_type": "code",
      "source": [
        "data.describe()"
      ],
      "metadata": {
        "colab": {
          "base_uri": "https://localhost:8080/",
          "height": 300
        },
        "id": "83gleAz2pqJl",
        "outputId": "c132e725-69a9-41b3-cf41-4e438fd85304"
      },
      "execution_count": 14,
      "outputs": [
        {
          "output_type": "execute_result",
          "data": {
            "text/plain": [
              "              mpg   cylinders  displacement  horsepower       weight  \\\n",
              "count  392.000000  392.000000    392.000000  392.000000   392.000000   \n",
              "mean    23.445918    5.471939    194.411990  104.469388  2977.584184   \n",
              "std      7.805007    1.705783    104.644004   38.491160   849.402560   \n",
              "min      9.000000    3.000000     68.000000   46.000000  1613.000000   \n",
              "25%     17.000000    4.000000    105.000000   75.000000  2225.250000   \n",
              "50%     22.750000    4.000000    151.000000   93.500000  2803.500000   \n",
              "75%     29.000000    8.000000    275.750000  126.000000  3614.750000   \n",
              "max     46.600000    8.000000    455.000000  230.000000  5140.000000   \n",
              "\n",
              "       acceleration  model year      origin  \n",
              "count    392.000000  392.000000  392.000000  \n",
              "mean      15.541327   75.979592    1.576531  \n",
              "std        2.758864    3.683737    0.805518  \n",
              "min        8.000000   70.000000    1.000000  \n",
              "25%       13.775000   73.000000    1.000000  \n",
              "50%       15.500000   76.000000    1.000000  \n",
              "75%       17.025000   79.000000    2.000000  \n",
              "max       24.800000   82.000000    3.000000  "
            ],
            "text/html": [
              "\n",
              "  <div id=\"df-520e88a3-2999-44ed-9d54-f44524de788d\">\n",
              "    <div class=\"colab-df-container\">\n",
              "      <div>\n",
              "<style scoped>\n",
              "    .dataframe tbody tr th:only-of-type {\n",
              "        vertical-align: middle;\n",
              "    }\n",
              "\n",
              "    .dataframe tbody tr th {\n",
              "        vertical-align: top;\n",
              "    }\n",
              "\n",
              "    .dataframe thead th {\n",
              "        text-align: right;\n",
              "    }\n",
              "</style>\n",
              "<table border=\"1\" class=\"dataframe\">\n",
              "  <thead>\n",
              "    <tr style=\"text-align: right;\">\n",
              "      <th></th>\n",
              "      <th>mpg</th>\n",
              "      <th>cylinders</th>\n",
              "      <th>displacement</th>\n",
              "      <th>horsepower</th>\n",
              "      <th>weight</th>\n",
              "      <th>acceleration</th>\n",
              "      <th>model year</th>\n",
              "      <th>origin</th>\n",
              "    </tr>\n",
              "  </thead>\n",
              "  <tbody>\n",
              "    <tr>\n",
              "      <th>count</th>\n",
              "      <td>392.000000</td>\n",
              "      <td>392.000000</td>\n",
              "      <td>392.000000</td>\n",
              "      <td>392.000000</td>\n",
              "      <td>392.000000</td>\n",
              "      <td>392.000000</td>\n",
              "      <td>392.000000</td>\n",
              "      <td>392.000000</td>\n",
              "    </tr>\n",
              "    <tr>\n",
              "      <th>mean</th>\n",
              "      <td>23.445918</td>\n",
              "      <td>5.471939</td>\n",
              "      <td>194.411990</td>\n",
              "      <td>104.469388</td>\n",
              "      <td>2977.584184</td>\n",
              "      <td>15.541327</td>\n",
              "      <td>75.979592</td>\n",
              "      <td>1.576531</td>\n",
              "    </tr>\n",
              "    <tr>\n",
              "      <th>std</th>\n",
              "      <td>7.805007</td>\n",
              "      <td>1.705783</td>\n",
              "      <td>104.644004</td>\n",
              "      <td>38.491160</td>\n",
              "      <td>849.402560</td>\n",
              "      <td>2.758864</td>\n",
              "      <td>3.683737</td>\n",
              "      <td>0.805518</td>\n",
              "    </tr>\n",
              "    <tr>\n",
              "      <th>min</th>\n",
              "      <td>9.000000</td>\n",
              "      <td>3.000000</td>\n",
              "      <td>68.000000</td>\n",
              "      <td>46.000000</td>\n",
              "      <td>1613.000000</td>\n",
              "      <td>8.000000</td>\n",
              "      <td>70.000000</td>\n",
              "      <td>1.000000</td>\n",
              "    </tr>\n",
              "    <tr>\n",
              "      <th>25%</th>\n",
              "      <td>17.000000</td>\n",
              "      <td>4.000000</td>\n",
              "      <td>105.000000</td>\n",
              "      <td>75.000000</td>\n",
              "      <td>2225.250000</td>\n",
              "      <td>13.775000</td>\n",
              "      <td>73.000000</td>\n",
              "      <td>1.000000</td>\n",
              "    </tr>\n",
              "    <tr>\n",
              "      <th>50%</th>\n",
              "      <td>22.750000</td>\n",
              "      <td>4.000000</td>\n",
              "      <td>151.000000</td>\n",
              "      <td>93.500000</td>\n",
              "      <td>2803.500000</td>\n",
              "      <td>15.500000</td>\n",
              "      <td>76.000000</td>\n",
              "      <td>1.000000</td>\n",
              "    </tr>\n",
              "    <tr>\n",
              "      <th>75%</th>\n",
              "      <td>29.000000</td>\n",
              "      <td>8.000000</td>\n",
              "      <td>275.750000</td>\n",
              "      <td>126.000000</td>\n",
              "      <td>3614.750000</td>\n",
              "      <td>17.025000</td>\n",
              "      <td>79.000000</td>\n",
              "      <td>2.000000</td>\n",
              "    </tr>\n",
              "    <tr>\n",
              "      <th>max</th>\n",
              "      <td>46.600000</td>\n",
              "      <td>8.000000</td>\n",
              "      <td>455.000000</td>\n",
              "      <td>230.000000</td>\n",
              "      <td>5140.000000</td>\n",
              "      <td>24.800000</td>\n",
              "      <td>82.000000</td>\n",
              "      <td>3.000000</td>\n",
              "    </tr>\n",
              "  </tbody>\n",
              "</table>\n",
              "</div>\n",
              "      <button class=\"colab-df-convert\" onclick=\"convertToInteractive('df-520e88a3-2999-44ed-9d54-f44524de788d')\"\n",
              "              title=\"Convert this dataframe to an interactive table.\"\n",
              "              style=\"display:none;\">\n",
              "        \n",
              "  <svg xmlns=\"http://www.w3.org/2000/svg\" height=\"24px\"viewBox=\"0 0 24 24\"\n",
              "       width=\"24px\">\n",
              "    <path d=\"M0 0h24v24H0V0z\" fill=\"none\"/>\n",
              "    <path d=\"M18.56 5.44l.94 2.06.94-2.06 2.06-.94-2.06-.94-.94-2.06-.94 2.06-2.06.94zm-11 1L8.5 8.5l.94-2.06 2.06-.94-2.06-.94L8.5 2.5l-.94 2.06-2.06.94zm10 10l.94 2.06.94-2.06 2.06-.94-2.06-.94-.94-2.06-.94 2.06-2.06.94z\"/><path d=\"M17.41 7.96l-1.37-1.37c-.4-.4-.92-.59-1.43-.59-.52 0-1.04.2-1.43.59L10.3 9.45l-7.72 7.72c-.78.78-.78 2.05 0 2.83L4 21.41c.39.39.9.59 1.41.59.51 0 1.02-.2 1.41-.59l7.78-7.78 2.81-2.81c.8-.78.8-2.07 0-2.86zM5.41 20L4 18.59l7.72-7.72 1.47 1.35L5.41 20z\"/>\n",
              "  </svg>\n",
              "      </button>\n",
              "      \n",
              "  <style>\n",
              "    .colab-df-container {\n",
              "      display:flex;\n",
              "      flex-wrap:wrap;\n",
              "      gap: 12px;\n",
              "    }\n",
              "\n",
              "    .colab-df-convert {\n",
              "      background-color: #E8F0FE;\n",
              "      border: none;\n",
              "      border-radius: 50%;\n",
              "      cursor: pointer;\n",
              "      display: none;\n",
              "      fill: #1967D2;\n",
              "      height: 32px;\n",
              "      padding: 0 0 0 0;\n",
              "      width: 32px;\n",
              "    }\n",
              "\n",
              "    .colab-df-convert:hover {\n",
              "      background-color: #E2EBFA;\n",
              "      box-shadow: 0px 1px 2px rgba(60, 64, 67, 0.3), 0px 1px 3px 1px rgba(60, 64, 67, 0.15);\n",
              "      fill: #174EA6;\n",
              "    }\n",
              "\n",
              "    [theme=dark] .colab-df-convert {\n",
              "      background-color: #3B4455;\n",
              "      fill: #D2E3FC;\n",
              "    }\n",
              "\n",
              "    [theme=dark] .colab-df-convert:hover {\n",
              "      background-color: #434B5C;\n",
              "      box-shadow: 0px 1px 3px 1px rgba(0, 0, 0, 0.15);\n",
              "      filter: drop-shadow(0px 1px 2px rgba(0, 0, 0, 0.3));\n",
              "      fill: #FFFFFF;\n",
              "    }\n",
              "  </style>\n",
              "\n",
              "      <script>\n",
              "        const buttonEl =\n",
              "          document.querySelector('#df-520e88a3-2999-44ed-9d54-f44524de788d button.colab-df-convert');\n",
              "        buttonEl.style.display =\n",
              "          google.colab.kernel.accessAllowed ? 'block' : 'none';\n",
              "\n",
              "        async function convertToInteractive(key) {\n",
              "          const element = document.querySelector('#df-520e88a3-2999-44ed-9d54-f44524de788d');\n",
              "          const dataTable =\n",
              "            await google.colab.kernel.invokeFunction('convertToInteractive',\n",
              "                                                     [key], {});\n",
              "          if (!dataTable) return;\n",
              "\n",
              "          const docLinkHtml = 'Like what you see? Visit the ' +\n",
              "            '<a target=\"_blank\" href=https://colab.research.google.com/notebooks/data_table.ipynb>data table notebook</a>'\n",
              "            + ' to learn more about interactive tables.';\n",
              "          element.innerHTML = '';\n",
              "          dataTable['output_type'] = 'display_data';\n",
              "          await google.colab.output.renderOutput(dataTable, element);\n",
              "          const docLink = document.createElement('div');\n",
              "          docLink.innerHTML = docLinkHtml;\n",
              "          element.appendChild(docLink);\n",
              "        }\n",
              "      </script>\n",
              "    </div>\n",
              "  </div>\n",
              "  "
            ]
          },
          "metadata": {},
          "execution_count": 14
        }
      ]
    },
    {
      "cell_type": "code",
      "source": [
        "y = data[['mpg']]\n",
        "X = data.drop(['mpg', 'car name', 'origin'], axis=1)\n",
        "\n",
        "# Perform test train split\n",
        "X_train , X_test, y_train, y_test = train_test_split(X, y, test_size=0.3, random_state=12)"
      ],
      "metadata": {
        "id": "kdhotoKRpkqH"
      },
      "execution_count": 9,
      "outputs": []
    },
    {
      "cell_type": "markdown",
      "metadata": {
        "id": "0qD2oqsMm81c"
      },
      "source": [
        "After splitting the data into training and test sets, we use the `MixMaxScaler()` to fit and transform `X_train` and transform `X_test`. \n",
        "\n",
        "> NOTE: You want to **fit and transform** only the **training** data because in a real-world setting, you only have access to this data. You can then use the same scalar object to **transform** the **test** data. If you first transform the data and then split into training and test sets this leads to **data leakage**. "
      ]
    },
    {
      "cell_type": "code",
      "execution_count": 3,
      "metadata": {
        "id": "5aHG4e6Tm81d"
      },
      "outputs": [],
      "source": [
        "scale = MinMaxScaler()\n",
        "X_train_transformed = scale.fit_transform(X_train)\n",
        "X_test_transformed = scale.transform(X_test)"
      ]
    },
    {
      "cell_type": "markdown",
      "metadata": {
        "id": "JfPL3TYFm81d"
      },
      "source": [
        "We will now fit the ridge, lasso, and linear regression models to the transformed training data. Notice that the ridge and lasso models have the parameter `alpha`, which is scikit-learn's version of $\\lambda$ in the regularization cost functions."
      ]
    },
    {
      "cell_type": "code",
      "execution_count": 4,
      "metadata": {
        "colab": {
          "base_uri": "https://localhost:8080/"
        },
        "id": "FNZxH3Ebm81d",
        "outputId": "15c288a4-8e10-42d1-90f4-1e917e069623"
      },
      "outputs": [
        {
          "output_type": "execute_result",
          "data": {
            "text/plain": [
              "LinearRegression()"
            ]
          },
          "metadata": {},
          "execution_count": 4
        }
      ],
      "source": [
        "# Build a ridge, lasso and regular linear regression model  \n",
        "# Note that in scikit-learn, the regularization parameter is denoted by alpha (and not lambda)\n",
        "ridge = Ridge(alpha=0.5)\n",
        "ridge.fit(X_train_transformed, y_train)\n",
        "\n",
        "lasso = Lasso(alpha=0.5)\n",
        "lasso.fit(X_train_transformed, y_train)\n",
        "\n",
        "lin = LinearRegression()\n",
        "lin.fit(X_train_transformed, y_train)"
      ]
    },
    {
      "cell_type": "markdown",
      "metadata": {
        "id": "qjoojIL2m81e"
      },
      "source": [
        "Next, let's generate predictions for both the training and test sets: "
      ]
    },
    {
      "cell_type": "code",
      "execution_count": 5,
      "metadata": {
        "id": "XQipJPxNm81e"
      },
      "outputs": [],
      "source": [
        "# Generate preditions for training and test sets\n",
        "y_h_ridge_train = ridge.predict(X_train_transformed)\n",
        "y_h_ridge_test = ridge.predict(X_test_transformed)\n",
        "\n",
        "y_h_lasso_train = lasso.predict(X_train_transformed)\n",
        "y_h_lasso_test = lasso.predict(X_test_transformed)\n",
        "\n",
        "y_h_lin_train = lin.predict(X_train_transformed)\n",
        "y_h_lin_test = lin.predict(X_test_transformed)"
      ]
    },
    {
      "cell_type": "markdown",
      "metadata": {
        "id": "TtptYh9Sm81e"
      },
      "source": [
        "Look at the MSE for training and test sets for each of the three models: "
      ]
    },
    {
      "cell_type": "code",
      "execution_count": 6,
      "metadata": {
        "colab": {
          "base_uri": "https://localhost:8080/"
        },
        "id": "9ReNQtrWm81e",
        "outputId": "946667c7-df40-44c1-f6c9-cdb0944f07c5"
      },
      "outputs": [
        {
          "output_type": "stream",
          "name": "stdout",
          "text": [
            "Train Error Ridge Model 9.798079515529826\n",
            "Test Error Ridge Model 17.523692433834444\n",
            "\n",
            "\n",
            "Train Error Lasso Model 16.244450797081786\n",
            "Test Error Lasso Model 30.034636315030966\n",
            "\n",
            "\n",
            "Train Error Unpenalized Linear Model 9.700888480581277\n",
            "Test Error Unpenalized Linear Model 16.74802531396471\n"
          ]
        }
      ],
      "source": [
        "print('Train Error Ridge Model', mean_squared_error(y_train, y_h_ridge_train))\n",
        "print('Test Error Ridge Model', mean_squared_error(y_test, y_h_ridge_test))\n",
        "print('\\n')\n",
        "\n",
        "print('Train Error Lasso Model', mean_squared_error(y_train, y_h_lasso_train))\n",
        "print('Test Error Lasso Model', mean_squared_error(y_test, y_h_lasso_test))\n",
        "print('\\n')\n",
        "\n",
        "print('Train Error Unpenalized Linear Model', mean_squared_error(y_train, y_h_lin_train))\n",
        "print('Test Error Unpenalized Linear Model', mean_squared_error(y_test, y_h_lin_test))"
      ]
    },
    {
      "cell_type": "markdown",
      "metadata": {
        "id": "j0vJlOTUm81e"
      },
      "source": [
        "We note that ridge is clearly better than lasso here, but that the unpenalized model performs best here. This makes sense because a linear regression model with these features is probably not overfitting, so adding regularization just contributes to underfitting.\n",
        "\n",
        "Let's see how including ridge and lasso changed our parameter estimates."
      ]
    },
    {
      "cell_type": "code",
      "execution_count": 7,
      "metadata": {
        "colab": {
          "base_uri": "https://localhost:8080/"
        },
        "id": "iK9NKmNmm81f",
        "outputId": "f8034e6d-fe29-46ac-d417-0b7f72c7fda4"
      },
      "outputs": [
        {
          "output_type": "stream",
          "name": "stdout",
          "text": [
            "Ridge parameter coefficients: [[ -2.06904445  -2.88593443  -1.81801505 -15.23785349  -1.45594148\n",
            "    8.1440177 ]]\n",
            "Lasso parameter coefficients: [-9.09743525 -0.         -0.         -4.02703963  0.          3.92348219]\n",
            "Linear model parameter coefficients: [[ -1.33790698  -1.05300843  -0.08661412 -19.26724989  -0.37043697\n",
            "    8.56051229]]\n"
          ]
        }
      ],
      "source": [
        "print('Ridge parameter coefficients:', ridge.coef_)\n",
        "print('Lasso parameter coefficients:', lasso.coef_)\n",
        "print('Linear model parameter coefficients:', lin.coef_)"
      ]
    },
    {
      "cell_type": "markdown",
      "metadata": {
        "id": "onpqrmc_m81f"
      },
      "source": [
        "Did you notice that lasso shrank a few parameters to 0? The ridge regression mostly affected the fourth parameter (estimated to be -19.26 for the linear regression model)."
      ]
    },
    {
      "cell_type": "markdown",
      "metadata": {
        "id": "pi3kHCksm81f"
      },
      "source": [
        "### Regularized Polynomial Regression vs. Polynomial Regression\n",
        "\n",
        "Now let's compare this to a model built using `PolynomialFeatures`, which has more complexity than an ordinary multiple regression."
      ]
    },
    {
      "cell_type": "code",
      "execution_count": 8,
      "metadata": {
        "colab": {
          "base_uri": "https://localhost:8080/"
        },
        "id": "U4ZMxUKJm81f",
        "outputId": "e76aac80-a995-4cd8-ea2a-a32052e81fa4"
      },
      "outputs": [
        {
          "output_type": "stream",
          "name": "stdout",
          "text": [
            "Train Error Polynomial Ridge Model 5.498365263214838\n",
            "Test Error Polynomial Ridge Model 10.70509990564881\n",
            "\n",
            "\n",
            "Train Error Polynomial Lasso Model 16.429632826093172\n",
            "Test Error Polynomial Lasso Model 30.384937999587347\n",
            "\n",
            "\n",
            "Train Error Unpenalized Polynomial Model 2.985206907322265e-18\n",
            "Test Error Unpenalized Polynomial Model 184317.15905775267\n",
            "\n",
            "\n",
            "Polynomial Ridge Parameter Coefficients: 923 non-zero coefficient(s) and 1 zeroed-out coefficient(s)\n",
            "Polynomial Lasso Parameter Coefficients: 3 non-zero coefficient(s) and 921 zeroed-out coefficient(s)\n",
            "Polynomial Model Parameter Coefficients: 924 non-zero coefficient(s) and 0 zeroed-out coefficient(s)\n"
          ]
        }
      ],
      "source": [
        "# Prepare data\n",
        "poly = PolynomialFeatures(degree=6)\n",
        "X_train_poly = poly.fit_transform(X_train)\n",
        "X_test_poly = poly.transform(X_test)\n",
        "\n",
        "X_train_transformed = scale.fit_transform(X_train_poly)\n",
        "X_test_transformed = scale.transform(X_test_poly)\n",
        "\n",
        "# Fit models\n",
        "ridge.fit(X_train_transformed, y_train)\n",
        "lasso.fit(X_train_transformed, y_train)\n",
        "lin.fit(X_train_transformed, y_train)\n",
        "\n",
        "# Generate predictions\n",
        "y_h_ridge_train = ridge.predict(X_train_transformed)\n",
        "y_h_ridge_test = ridge.predict(X_test_transformed)\n",
        "y_h_lasso_train = lasso.predict(X_train_transformed)\n",
        "y_h_lasso_test = lasso.predict(X_test_transformed)\n",
        "y_h_lin_train = lin.predict(X_train_transformed)\n",
        "y_h_lin_test = lin.predict(X_test_transformed)\n",
        "\n",
        "# Display results\n",
        "print('Train Error Polynomial Ridge Model', mean_squared_error(y_train, y_h_ridge_train))\n",
        "print('Test Error Polynomial Ridge Model', mean_squared_error(y_test, y_h_ridge_test))\n",
        "print('\\n')\n",
        "print('Train Error Polynomial Lasso Model', mean_squared_error(y_train, y_h_lasso_train))\n",
        "print('Test Error Polynomial Lasso Model', mean_squared_error(y_test, y_h_lasso_test))\n",
        "print('\\n')\n",
        "print('Train Error Unpenalized Polynomial Model', mean_squared_error(y_train, y_h_lin_train))\n",
        "print('Test Error Unpenalized Polynomial Model', mean_squared_error(y_test, y_h_lin_test))\n",
        "print('\\n')\n",
        "print('Polynomial Ridge Parameter Coefficients:', len(ridge.coef_[ridge.coef_ != 0]), \n",
        "      'non-zero coefficient(s) and', len(ridge.coef_[ridge.coef_ == 0]), 'zeroed-out coefficient(s)')\n",
        "print('Polynomial Lasso Parameter Coefficients:',  len(lasso.coef_[lasso.coef_ != 0]), \n",
        "      'non-zero coefficient(s) and', len(lasso.coef_[lasso.coef_ == 0]), 'zeroed-out coefficient(s)')\n",
        "print('Polynomial Model Parameter Coefficients:',  len(lin.coef_[lin.coef_ != 0]), \n",
        "      'non-zero coefficient(s) and', len(lin.coef_[lin.coef_ == 0]), 'zeroed-out coefficient(s)')"
      ]
    },
    {
      "cell_type": "markdown",
      "metadata": {
        "id": "4JYRdFwlm81g"
      },
      "source": [
        "In this case, the unpenalized model was overfitting. Therefore when ridge and lasso regression were applied, this reduced overfitting and made the overall model fit better. Note that the best model we have seen so far is the polynomial + ridge model, which seems to have the best balance of bias and variance.\n",
        "\n",
        "If we were to continue tweaking our models, we might want to reduce the `alpha` ($\\lambda$) for the lasso model, because it seems to be underfitting compared to the ridge model. Reducing `alpha` would reduce the strength of the regularization, allowing for more non-zero coefficients."
      ]
    },
    {
      "cell_type": "markdown",
      "metadata": {
        "id": "tSCb0Hq8m81g"
      },
      "source": [
        "## Additional Reading\n",
        "\n",
        "Full code examples for ridge and lasso regression, advantages and disadvantages, and how to code ridge and lasso in Python can be found [here](https://www.analyticsvidhya.com/blog/2016/01/complete-tutorial-ridge-lasso-regression-python/).\n",
        "\n",
        "Make sure to have a look at the scikit-learn documentation for [`Ridge`](https://scikit-learn.org/stable/modules/generated/sklearn.linear_model.Ridge.html) and [`Lasso`](https://scikit-learn.org/stable/modules/generated/sklearn.linear_model.Lasso.html).\n"
      ]
    },
    {
      "cell_type": "markdown",
      "metadata": {
        "id": "GQXd-fM2m81g"
      },
      "source": [
        "## Summary"
      ]
    },
    {
      "cell_type": "markdown",
      "metadata": {
        "id": "A6RvzlkMm81g"
      },
      "source": [
        "Great! You now know how to perform lasso and ridge regression. Let's move on to the lab so you can use these!"
      ]
    },
    {
      "cell_type": "code",
      "source": [],
      "metadata": {
        "id": "IAzT_FxdnqFw"
      },
      "execution_count": 8,
      "outputs": []
    }
  ],
  "metadata": {
    "kernelspec": {
      "display_name": "Python (learn-env)",
      "language": "python",
      "name": "learn-env"
    },
    "language_info": {
      "codemirror_mode": {
        "name": "ipython",
        "version": 3
      },
      "file_extension": ".py",
      "mimetype": "text/x-python",
      "name": "python",
      "nbconvert_exporter": "python",
      "pygments_lexer": "ipython3",
      "version": "3.8.5"
    },
    "colab": {
      "provenance": []
    }
  },
  "nbformat": 4,
  "nbformat_minor": 0
}
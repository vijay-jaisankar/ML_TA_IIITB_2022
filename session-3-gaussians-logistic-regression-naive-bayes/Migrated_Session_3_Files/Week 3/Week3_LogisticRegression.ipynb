{
  "nbformat": 4,
  "nbformat_minor": 0,
  "metadata": {
    "colab": {
      "name": "Week3_LogisticRegression.ipynb",
      "provenance": [],
      "collapsed_sections": []
    },
    "kernelspec": {
      "name": "python3",
      "display_name": "Python 3"
    },
    "language_info": {
      "name": "python"
    }
  },
  "cells": [
    {
      "cell_type": "markdown",
      "metadata": {
        "id": "o87uicgix6q9"
      },
      "source": [
        "# Logistic Function\n",
        "The logistic function, also called the sigmoid function. It’s an S-shaped curve that can take any real-valued number and map it into a value between 0 and 1, but never exactly at those limits.\n",
        "\n",
        "1 / (1 + e^-value)\n",
        "\n",
        "Where e is the base of the natural logarithms (Euler’s number or the EXP() function in your spreadsheet) and value is the actual numerical value that you want to transform\n",
        "\n",
        "ref : https://machinelearningmastery.com/logistic-regression-for-machine-learning/"
      ]
    },
    {
      "cell_type": "code",
      "metadata": {
        "colab": {
          "base_uri": "https://localhost:8080/"
        },
        "id": "DbhHGUzq4J9Q",
        "outputId": "217cd2cc-cb21-43db-def1-c5d4abbab8a6"
      },
      "source": [
        "import numpy as np\n",
        "n_samples = 500\n",
        "np.random.seed(0)\n",
        "X = np.random.normal(size=n_samples)\n",
        "y = (X > 0).astype(float)\n",
        "\n",
        "print(X[0:5])\n",
        "print(y[0:5])\n",
        "print(X[5:10])\n",
        "print(y[5:10])"
      ],
      "execution_count": 47,
      "outputs": [
        {
          "output_type": "stream",
          "name": "stdout",
          "text": [
            "[1.76405235 0.40015721 0.97873798 2.2408932  1.86755799]\n",
            "[1. 1. 1. 1. 1.]\n",
            "[-0.97727788  0.95008842 -0.15135721 -0.10321885  0.4105985 ]\n",
            "[0. 1. 0. 0. 1.]\n"
          ]
        }
      ]
    },
    {
      "cell_type": "code",
      "metadata": {
        "colab": {
          "base_uri": "https://localhost:8080/"
        },
        "id": "drVK6E_m6iof",
        "outputId": "d81a920a-d3b6-4adc-b753-1cb5e81b4aee"
      },
      "source": [
        "print(\"\\n Min {}, Max{}\".format(min(X), max(X)))"
      ],
      "execution_count": 48,
      "outputs": [
        {
          "output_type": "stream",
          "name": "stdout",
          "text": [
            "\n",
            " Min -2.77259275642665, Max2.6962240525635797\n"
          ]
        }
      ]
    },
    {
      "cell_type": "code",
      "metadata": {
        "colab": {
          "base_uri": "https://localhost:8080/",
          "height": 262
        },
        "id": "g6fVOM2t6oUS",
        "outputId": "25e7ecbc-b833-434c-8f28-f38d155ae8a9"
      },
      "source": [
        "%matplotlib inline\n",
        "import matplotlib.pyplot as plt\n",
        "\n",
        "plt.style.use('seaborn-whitegrid')\n",
        "x1_filt = []\n",
        "y1_filt = []\n",
        "\n",
        "x2_filt = []\n",
        "y2_filt = []\n",
        "\n",
        "for cx,cy in zip(X,y):\n",
        "  if (cy ==0):\n",
        "    x1_filt.append(cx)\n",
        "    y1_filt.append(cy)\n",
        "  else:\n",
        "    x2_filt.append(cx)\n",
        "    y2_filt.append(cy)\n",
        "plt.plot(x1_filt, y1_filt, 'o', color='red');\n",
        "plt.plot(x2_filt, y2_filt, 'o', color='blue');"
      ],
      "execution_count": 49,
      "outputs": [
        {
          "output_type": "display_data",
          "data": {
            "image/png": "[encoded data removed]",
            "text/plain": [
              "<Figure size 432x288 with 1 Axes>"
            ]
          },
          "metadata": {}
        }
      ]
    },
    {
      "cell_type": "markdown",
      "metadata": {
        "id": "rQ48dVhL7CRi"
      },
      "source": [
        "Logistic Regression is a Machine Learning classification algorithm that is used to predict the probability of a categorical dependent variable. In logistic regression, the dependent variable is a binary variable that contains data coded as 1 (yes, success, etc.) or 0 (no, failure, etc.)."
      ]
    },
    {
      "cell_type": "code",
      "metadata": {
        "colab": {
          "base_uri": "https://localhost:8080/"
        },
        "id": "3OFbfPDn5cZu",
        "outputId": "2028672d-9335-41e4-9b18-481cfc9cc54a"
      },
      "source": [
        "# Fit the classifier\n",
        "from sklearn.model_selection import train_test_split\n",
        "from sklearn.linear_model import LogisticRegression\n",
        "\n",
        "X = X.reshape(-1,1)\n",
        "logRegX_train, logRegX_test, logRegy_train, logRegy_test = train_test_split(X, y, test_size=0.2, random_state=0)\n",
        "\n",
        "lreg = LogisticRegression()\n",
        "lreg.fit(logRegX_train, logRegy_train)\n",
        "logRegy_pred = lreg.predict(logRegX_test)\n",
        "print('Accuracy {:.2f}'.format(lreg.score(logRegX_test, logRegy_test)))\n",
        "\n",
        "#print('{}-{}'.format(X_test[0:10],y_pred[0:10]))"
      ],
      "execution_count": 50,
      "outputs": [
        {
          "output_type": "stream",
          "name": "stdout",
          "text": [
            "Accuracy 1.00\n"
          ]
        }
      ]
    },
    {
      "cell_type": "code",
      "metadata": {
        "colab": {
          "base_uri": "https://localhost:8080/"
        },
        "id": "DFEwCSZtHr0d",
        "outputId": "e661bff1-a77b-4029-ba96-750a9bfcec6c"
      },
      "source": [
        "from sklearn.naive_bayes import GaussianNB\n",
        "gnb = GaussianNB()\n",
        "gnb.fit(X_train, y_train)\n",
        "  \n",
        "# making predictions on the testing set\n",
        "y_pred = gnb.predict(X_test)\n",
        "print('Accuracy {:.2f}'.format(gnb.score(X_test, y_test)))\n",
        "\n",
        "# comparing actual response values (y_test) with predicted response values (y_pred)\n",
        "from sklearn import metrics\n",
        "print(\"Gaussian Naive Bayes (in %):\", metrics.accuracy_score(y_test, y_pred)*100)"
      ],
      "execution_count": 57,
      "outputs": [
        {
          "output_type": "stream",
          "name": "stdout",
          "text": [
            "Accuracy 0.97\n",
            "Gaussian Naive Bayes (in %): 96.66666666666667\n"
          ]
        }
      ]
    },
    {
      "cell_type": "code",
      "metadata": {
        "colab": {
          "base_uri": "https://localhost:8080/",
          "height": 298
        },
        "id": "NTo6nSGyyV1h",
        "outputId": "9e78a123-a893-4d83-c379-54f2f700fbbf"
      },
      "source": [
        "n_samples = 500\n",
        "half = (int)(n_samples/2)\n",
        "np.random.seed(4)\n",
        "X = np.random.normal(size=n_samples)\n",
        "y = [n_samples]\n",
        "y[:half] = [0]*half\n",
        "y[half+1:] = [1]*half\n",
        "\n",
        "#print(X[0:10])\n",
        "#print(y[0:10])\n",
        "print(\"\\n Min {}, Max{}\".format(min(X), max(X)))\n",
        "%matplotlib inline\n",
        "import matplotlib.pyplot as plt\n",
        "plt.style.use('seaborn-whitegrid')\n",
        "plt.plot(X[:half], y[:half], 'o', color='red');\n",
        "plt.plot(X[half+1:], y[half+1:], 'o', color='blue');"
      ],
      "execution_count": 51,
      "outputs": [
        {
          "output_type": "stream",
          "name": "stdout",
          "text": [
            "\n",
            " Min -2.43670919062986, Max2.7868035924262387\n"
          ]
        },
        {
          "output_type": "display_data",
          "data": {
            "image/png": "[encoded data removed]",
            "text/plain": [
              "<Figure size 432x288 with 1 Axes>"
            ]
          },
          "metadata": {}
        }
      ]
    },
    {
      "cell_type": "code",
      "metadata": {
        "colab": {
          "base_uri": "https://localhost:8080/"
        },
        "id": "GTfjxw5D008g",
        "outputId": "362ecdfc-24f9-4e82-aef4-831b117adf03"
      },
      "source": [
        "# Fit the classifier\n",
        "from sklearn.model_selection import train_test_split\n",
        "from sklearn.linear_model import LogisticRegression\n",
        "\n",
        "X = X.reshape(-1,1)\n",
        "X_train, X_test, y_train, y_test = train_test_split(X, y, test_size=0.2, random_state=0)\n",
        "\n",
        "lreg = LogisticRegression()\n",
        "lreg.fit(X_train, y_train)\n",
        "y_pred = lreg.predict(X_test)\n",
        "print('Accuracy {:.2f}'.format(lreg.score(X_test, y_test)))\n"
      ],
      "execution_count": 53,
      "outputs": [
        {
          "output_type": "stream",
          "name": "stdout",
          "text": [
            "Accuracy 0.49\n"
          ]
        }
      ]
    },
    {
      "cell_type": "code",
      "metadata": {
        "id": "qaswxArO-2IW"
      },
      "source": [
        "# load the iris dataset\n",
        "from sklearn.datasets import load_iris\n",
        "from sklearn import metrics\n",
        "import pandas as pd\n",
        "\n",
        "iris = load_iris()\n",
        "df = pd.DataFrame(iris.data, columns=iris.feature_names)\n"
      ],
      "execution_count": 58,
      "outputs": []
    },
    {
      "cell_type": "code",
      "metadata": {
        "id": "L02kIhm8aoVr",
        "colab": {
          "base_uri": "https://localhost:8080/"
        },
        "outputId": "827fe5e3-a2fd-4dc9-d290-3bd96d589dc3"
      },
      "source": [
        "X = iris.data\n",
        "y = iris.target\n",
        "print(len(X))\n",
        "\n",
        "print(df.head())\n",
        "\n",
        "title = df.columns.values"
      ],
      "execution_count": 59,
      "outputs": [
        {
          "output_type": "stream",
          "name": "stdout",
          "text": [
            "150\n",
            "   sepal length (cm)  sepal width (cm)  petal length (cm)  petal width (cm)\n",
            "0                5.1               3.5                1.4               0.2\n",
            "1                4.9               3.0                1.4               0.2\n",
            "2                4.7               3.2                1.3               0.2\n",
            "3                4.6               3.1                1.5               0.2\n",
            "4                5.0               3.6                1.4               0.2\n"
          ]
        }
      ]
    },
    {
      "cell_type": "code",
      "metadata": {
        "colab": {
          "base_uri": "https://localhost:8080/"
        },
        "id": "Q7bS3ZjdBFHn",
        "outputId": "122b1a3a-af93-447e-b392-26ab83da860b"
      },
      "source": [
        "from sklearn.model_selection import train_test_split\n",
        "X_train, X_test, y_train, y_test = train_test_split(X, y, test_size=0.2, random_state=1) \n",
        "\n",
        "#reason for solver = lbfgs\n",
        "#https://stackoverflow.com/questions/62658215/convergencewarning-lbfgs-failed-to-converge-status-1-stop-total-no-of-iter\n",
        "\n",
        "lreg = LogisticRegression(solver='lbfgs', max_iter=125)\n",
        "lreg.fit(X_train, y_train)\n",
        "y_pred = lreg.predict(X_test)\n",
        "print('Accuracy {:.2f}'.format(lreg.score(X_test, y_test)))"
      ],
      "execution_count": 71,
      "outputs": [
        {
          "output_type": "stream",
          "name": "stdout",
          "text": [
            "Accuracy 0.97\n"
          ]
        }
      ]
    },
    {
      "cell_type": "code",
      "metadata": {
        "colab": {
          "base_uri": "https://localhost:8080/"
        },
        "id": "PEO-kf7qGck6",
        "outputId": "7ba1e9e4-d65d-4390-da90-7c7827cf292d"
      },
      "source": [
        "print(title[0] + \" and \" + title[1])\n",
        "from sklearn.model_selection import train_test_split\n",
        "X_train, X_test, y_train, y_test = train_test_split(X[:,:2], y, test_size=0.4, random_state=1)\n",
        "  \n",
        "lreg = LogisticRegression(solver='lbfgs', max_iter=125)\n",
        "lreg.fit(X_train, y_train)\n",
        "y_pred = lreg.predict(X_test)\n",
        "print('Accuracy {:.2f}'.format(lreg.score(X_test, y_test)))"
      ],
      "execution_count": 72,
      "outputs": [
        {
          "output_type": "stream",
          "name": "stdout",
          "text": [
            "sepal length (cm) and sepal width (cm)\n",
            "Accuracy 0.77\n"
          ]
        }
      ]
    },
    {
      "cell_type": "code",
      "metadata": {
        "colab": {
          "base_uri": "https://localhost:8080/"
        },
        "id": "gT45VjDULaIh",
        "outputId": "87f3e56c-2bdf-4a32-e34e-cdec0b63f2ae"
      },
      "source": [
        "print(title[2] + \" and \" + title[3])\n",
        "from sklearn.model_selection import train_test_split\n",
        "X_train, X_test, y_train, y_test = train_test_split(X[:,2:], y, test_size=0.4, random_state=1)\n",
        "\n",
        "  \n",
        "lreg = LogisticRegression(solver='lbfgs', max_iter=125)\n",
        "lreg.fit(X_train, y_train)\n",
        "y_pred = lreg.predict(X_test)\n",
        "print('Accuracy {:.2f}'.format(lreg.score(X_test, y_test)))"
      ],
      "execution_count": 73,
      "outputs": [
        {
          "output_type": "stream",
          "name": "stdout",
          "text": [
            "petal length (cm) and petal width (cm)\n",
            "Accuracy 0.97\n"
          ]
        }
      ]
    }
  ]
}
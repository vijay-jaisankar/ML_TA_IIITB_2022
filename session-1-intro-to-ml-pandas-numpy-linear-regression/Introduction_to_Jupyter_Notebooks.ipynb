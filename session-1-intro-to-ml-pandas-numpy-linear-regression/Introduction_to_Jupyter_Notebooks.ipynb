{
 "cells": [
  {
   "cell_type": "markdown",
   "metadata": {},
   "source": [
    "# Introduction to Jupyter Notebooks \n",
    "by Aniruddh K B | iMT2018008 | aniruddh.kishore@iiitb.ac.in"
   ]
  },
  {
   "cell_type": "markdown",
   "metadata": {},
   "source": [
    "Jupyter notebooks are an **interactive** way of dealing with Python code. They are very useful for data analytics and small-scale machine learning."
   ]
  },
  {
   "cell_type": "markdown",
   "metadata": {},
   "source": [
    "## 1. Cells"
   ]
  },
  {
   "cell_type": "markdown",
   "metadata": {},
   "source": [
    "In a Jupyter notebook, everything is organized in **cells**. Even this text is in a cell! \n",
    "\n",
    "There are two types of cells:\n",
    "1. Code cells -- for code\n",
    "2. Markdown cells -- for comments, documentation etc. This text here is in a markdown cell.\n",
    "\n",
    "Click this text here -- the box that comes up? That's a cell. \n",
    "\n",
    "In general, to select a particular cell, click that cell. \n",
    "\n",
    "To edit the contents of the cell, double-click the cell and type.\n",
    "\n",
    "Once you're done editing, if you wish to use other commands, press ESC.\n",
    "\n",
    "(In general, to use commands, first press ESC so that you're no longer editing)"
   ]
  },
  {
   "cell_type": "code",
   "execution_count": 5,
   "metadata": {},
   "outputs": [
    {
     "name": "stdout",
     "output_type": "stream",
     "text": [
      "Welcome to AI511-ML\n"
     ]
    }
   ],
   "source": [
    "print(\"Welcome to AI511-ML\") \n",
    "# This is a code cell. \n",
    "# To run this code, select this cell and\n",
    "#   press the \"play\" button to the left, or use the SHIFT-ENTER command \n",
    "# You may have to press ESC first!"
   ]
  },
  {
   "cell_type": "code",
   "execution_count": 6,
   "metadata": {},
   "outputs": [
    {
     "name": "stdout",
     "output_type": "stream",
     "text": [
      "9\n"
     ]
    }
   ],
   "source": [
    "print(5 + 4)"
   ]
  },
  {
   "cell_type": "markdown",
   "metadata": {},
   "source": [
    "## 2. Useful commands\n",
    "\n",
    "\n",
    "1. Add a cell above: a \n",
    "2. Add a cell below: b \n",
    "3. Convert cell to code cell: y\n",
    "4. Convert cell to markdown cell: m \n",
    "5. Run cell: SHIFT-ENTER \n",
    "6. Delete cell: dd \n",
    "7. Go to previous/next cell: Up/down arrow key \n",
    "\n",
    "Try these commands out in the free space below!"
   ]
  },
  {
   "cell_type": "code",
   "execution_count": null,
   "metadata": {},
   "outputs": [],
   "source": []
  }
 ],
 "metadata": {
  "kernelspec": {
   "display_name": "Python 3.8.10 64-bit",
   "language": "python",
   "name": "python3"
  },
  "language_info": {
   "codemirror_mode": {
    "name": "ipython",
    "version": 3
   },
   "file_extension": ".py",
   "mimetype": "text/x-python",
   "name": "python",
   "nbconvert_exporter": "python",
   "pygments_lexer": "ipython3",
   "version": "3.8.10"
  },
  "vscode": {
   "interpreter": {
    "hash": "916dbcbb3f70747c44a77c7bcd40155683ae19c65e1c03b4aa3499c5328201f1"
   }
  }
 },
 "nbformat": 4,
 "nbformat_minor": 2
}
